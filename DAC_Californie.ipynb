{
 "cells": [
  {
   "cell_type": "markdown",
   "metadata": {},
   "source": [
    "# Détermination des loyers en Californie\n",
    "Solène Duchamp & Jérémy Guiselin\n",
    "\n",
    "______________________________________________________________________________________________________________________\n",
    "______________________________________________________________________________________________________________________"
   ]
  },
  {
   "cell_type": "markdown",
   "metadata": {},
   "source": [
    "## Résumé\n",
    "Ce projet a pour but de déterminer les loyers des appartements en Californie grâce à des informations sur leurs localisations et leurs caractéristiques."
   ]
  },
  {
   "cell_type": "markdown",
   "metadata": {},
   "source": [
    "## Approche\n",
    "Il s'agit d'un problème de régression, que l'on abordera de la façon suivante :\n",
    " - Exploration des données / Cleaning\n",
    " - Splitting\n",
    " - Training et performance des différents algorithmes :\n",
    "     - Gradient Boosting (celui-ci nous permettra de réduire le nombre de prédicteurs pour la suite)\n",
    "     - Random Forest\n",
    "     - Régression Polynomiale\n",
    " "
   ]
  },
  {
   "cell_type": "markdown",
   "metadata": {},
   "source": [
    "## Imports"
   ]
  },
  {
   "cell_type": "code",
   "execution_count": 35,
   "metadata": {
    "collapsed": true
   },
   "outputs": [],
   "source": [
    "import pandas as pd\n",
    "import ast\n",
    "import seaborn as sb\n",
    "import matplotlib.pyplot as plt\n",
    "import numpy as np\n",
    "\n",
    "from sklearn.model_selection import train_test_split, cross_val_score\n",
    "pd.options.mode.chained_assignment = None\n",
    "from sklearn.preprocessing import PolynomialFeatures\n",
    "from sklearn import linear_model\n",
    "from sklearn.svm import SVC\n",
    "from sklearn.ensemble import GradientBoostingRegressor\n",
    "from sklearn.ensemble import RandomForestRegressor"
   ]
  },
  {
   "cell_type": "markdown",
   "metadata": {},
   "source": [
    "## Exploration des données & Cleaning"
   ]
  },
  {
   "cell_type": "code",
   "execution_count": 2,
   "metadata": {},
   "outputs": [
    {
     "name": "stdout",
     "output_type": "stream",
     "text": [
      "(25796, 38)\n"
     ]
    }
   ],
   "source": [
    "df = pd.DataFrame.from_csv('data/apartments-geo.csv')\n",
    "print(df.shape)"
   ]
  },
  {
   "cell_type": "code",
   "execution_count": 3,
   "metadata": {},
   "outputs": [
    {
     "data": {
      "text/html": [
       "<div>\n",
       "<style>\n",
       "    .dataframe thead tr:only-child th {\n",
       "        text-align: right;\n",
       "    }\n",
       "\n",
       "    .dataframe thead th {\n",
       "        text-align: left;\n",
       "    }\n",
       "\n",
       "    .dataframe tbody tr th {\n",
       "        vertical-align: top;\n",
       "    }\n",
       "</style>\n",
       "<table border=\"1\" class=\"dataframe\">\n",
       "  <thead>\n",
       "    <tr style=\"text-align: right;\">\n",
       "      <th></th>\n",
       "      <th>Alarm</th>\n",
       "      <th>Cable Ready</th>\n",
       "      <th>Ceiling Fans</th>\n",
       "      <th>Covered</th>\n",
       "      <th>Double Vanities</th>\n",
       "      <th>Fireplace</th>\n",
       "      <th>Framed Mirrors</th>\n",
       "      <th>Garage</th>\n",
       "      <th>Handrails</th>\n",
       "      <th>Heating</th>\n",
       "      <th>...</th>\n",
       "      <th>features</th>\n",
       "      <th>model</th>\n",
       "      <th>parking</th>\n",
       "      <th>postal_code</th>\n",
       "      <th>rent</th>\n",
       "      <th>size</th>\n",
       "      <th>street_address</th>\n",
       "      <th>full_address</th>\n",
       "      <th>lat</th>\n",
       "      <th>lng</th>\n",
       "    </tr>\n",
       "    <tr>\n",
       "      <th>Air Conditioning</th>\n",
       "      <th></th>\n",
       "      <th></th>\n",
       "      <th></th>\n",
       "      <th></th>\n",
       "      <th></th>\n",
       "      <th></th>\n",
       "      <th></th>\n",
       "      <th></th>\n",
       "      <th></th>\n",
       "      <th></th>\n",
       "      <th></th>\n",
       "      <th></th>\n",
       "      <th></th>\n",
       "      <th></th>\n",
       "      <th></th>\n",
       "      <th></th>\n",
       "      <th></th>\n",
       "      <th></th>\n",
       "      <th></th>\n",
       "      <th></th>\n",
       "      <th></th>\n",
       "    </tr>\n",
       "  </thead>\n",
       "  <tbody>\n",
       "    <tr>\n",
       "      <th>1</th>\n",
       "      <td>0</td>\n",
       "      <td>1</td>\n",
       "      <td>0</td>\n",
       "      <td>0</td>\n",
       "      <td>0</td>\n",
       "      <td>0</td>\n",
       "      <td>0</td>\n",
       "      <td>1</td>\n",
       "      <td>1</td>\n",
       "      <td>1</td>\n",
       "      <td>...</td>\n",
       "      <td>['High Speed Internet Access', 'Wi-Fi', 'Air C...</td>\n",
       "      <td>Celebrity Suite</td>\n",
       "      <td>['Garage']</td>\n",
       "      <td>90010</td>\n",
       "      <td>4600.0</td>\n",
       "      <td>1150.0</td>\n",
       "      <td>4121 Wilshire Blvd</td>\n",
       "      <td>4121 Wilshire Blvd 90010 Los Angeles</td>\n",
       "      <td>34.0606</td>\n",
       "      <td>-118.3027</td>\n",
       "    </tr>\n",
       "    <tr>\n",
       "      <th>1</th>\n",
       "      <td>0</td>\n",
       "      <td>1</td>\n",
       "      <td>0</td>\n",
       "      <td>0</td>\n",
       "      <td>0</td>\n",
       "      <td>0</td>\n",
       "      <td>0</td>\n",
       "      <td>1</td>\n",
       "      <td>1</td>\n",
       "      <td>1</td>\n",
       "      <td>...</td>\n",
       "      <td>['High Speed Internet Access', 'Wi-Fi', 'Air C...</td>\n",
       "      <td>Furnished Corporate Ste</td>\n",
       "      <td>['Garage']</td>\n",
       "      <td>90010</td>\n",
       "      <td>6500.0</td>\n",
       "      <td>1150.0</td>\n",
       "      <td>4121 Wilshire Blvd</td>\n",
       "      <td>4121 Wilshire Blvd 90010 Los Angeles</td>\n",
       "      <td>34.0606</td>\n",
       "      <td>-118.3027</td>\n",
       "    </tr>\n",
       "  </tbody>\n",
       "</table>\n",
       "<p>2 rows × 38 columns</p>\n",
       "</div>"
      ],
      "text/plain": [
       "                  Alarm  Cable Ready  Ceiling Fans  Covered  Double Vanities  \\\n",
       "Air Conditioning                                                               \n",
       "1                     0            1             0        0                0   \n",
       "1                     0            1             0        0                0   \n",
       "\n",
       "                  Fireplace  Framed Mirrors  Garage  Handrails  Heating  \\\n",
       "Air Conditioning                                                          \n",
       "1                         0               0       1          1        1   \n",
       "1                         0               0       1          1        1   \n",
       "\n",
       "                    ...                                              features  \\\n",
       "Air Conditioning    ...                                                         \n",
       "1                   ...     ['High Speed Internet Access', 'Wi-Fi', 'Air C...   \n",
       "1                   ...     ['High Speed Internet Access', 'Wi-Fi', 'Air C...   \n",
       "\n",
       "                                    model     parking  postal_code    rent  \\\n",
       "Air Conditioning                                                             \n",
       "1                         Celebrity Suite  ['Garage']        90010  4600.0   \n",
       "1                 Furnished Corporate Ste  ['Garage']        90010  6500.0   \n",
       "\n",
       "                    size      street_address  \\\n",
       "Air Conditioning                               \n",
       "1                 1150.0  4121 Wilshire Blvd   \n",
       "1                 1150.0  4121 Wilshire Blvd   \n",
       "\n",
       "                                          full_address      lat       lng  \n",
       "Air Conditioning                                                           \n",
       "1                 4121 Wilshire Blvd 90010 Los Angeles  34.0606 -118.3027  \n",
       "1                 4121 Wilshire Blvd 90010 Los Angeles  34.0606 -118.3027  \n",
       "\n",
       "[2 rows x 38 columns]"
      ]
     },
     "execution_count": 3,
     "metadata": {},
     "output_type": "execute_result"
    }
   ],
   "source": [
    "df.head(2)"
   ]
  },
  {
   "cell_type": "code",
   "execution_count": 4,
   "metadata": {},
   "outputs": [
    {
     "data": {
      "text/plain": [
       "Index(['Alarm', 'Cable Ready', 'Ceiling Fans', 'Covered', 'Double Vanities',\n",
       "       'Fireplace', 'Framed Mirrors', 'Garage', 'Handrails', 'Heating',\n",
       "       'High Speed Internet Access', 'Intercom', 'Satellite TV', 'Smoke Free',\n",
       "       'Sprinkler System', 'Storage Units', 'Surface Lot',\n",
       "       'Surface Lot and Covered', 'Surround Sound', 'Trash Compactor',\n",
       "       'Tub/Shower', 'Washer/Dryer', 'Washer/Dryer Hookup',\n",
       "       'Wheelchair Accessible (Rooms)', 'Wi-Fi', 'address_locality', 'baths',\n",
       "       'beds', 'features', 'model', 'parking', 'postal_code', 'rent', 'size',\n",
       "       'street_address', 'full_address', 'lat', 'lng'],\n",
       "      dtype='object')"
      ]
     },
     "execution_count": 4,
     "metadata": {},
     "output_type": "execute_result"
    }
   ],
   "source": [
    "df.columns"
   ]
  },
  {
   "cell_type": "markdown",
   "metadata": {},
   "source": [
    "Nous enlevons les colonnes redondantes/ inutiles"
   ]
  },
  {
   "cell_type": "code",
   "execution_count": 5,
   "metadata": {
    "collapsed": true
   },
   "outputs": [],
   "source": [
    "df = df.drop(['address_locality','features','postal_code','street_address', 'model', 'parking', 'street_address','full_address', 'lat', 'lng' ], 1)"
   ]
  },
  {
   "cell_type": "code",
   "execution_count": 6,
   "metadata": {},
   "outputs": [
    {
     "data": {
      "text/plain": [
       "(25796, 29)"
      ]
     },
     "execution_count": 6,
     "metadata": {},
     "output_type": "execute_result"
    }
   ],
   "source": [
    "df.shape"
   ]
  },
  {
   "cell_type": "markdown",
   "metadata": {},
   "source": [
    "Comme nous voulons prédire les loyers, les appartements dont les loyers ne sont pas connus sont inutiles."
   ]
  },
  {
   "cell_type": "code",
   "execution_count": 7,
   "metadata": {},
   "outputs": [
    {
     "data": {
      "text/plain": [
       "(20446, 29)"
      ]
     },
     "execution_count": 7,
     "metadata": {},
     "output_type": "execute_result"
    }
   ],
   "source": [
    "df = df[df['rent'] != 0]\n",
    "df.shape"
   ]
  },
  {
   "cell_type": "markdown",
   "metadata": {},
   "source": [
    "On peut également supprimer les appartements dont la surface ne nous est pas donnée"
   ]
  },
  {
   "cell_type": "code",
   "execution_count": 8,
   "metadata": {},
   "outputs": [
    {
     "data": {
      "text/plain": [
       "(20377, 29)"
      ]
     },
     "execution_count": 8,
     "metadata": {},
     "output_type": "execute_result"
    }
   ],
   "source": [
    "df = df[df['size'] != 0]\n",
    "df.shape"
   ]
  },
  {
   "cell_type": "markdown",
   "metadata": {},
   "source": [
    "Regardons les corrélations entre prédicteurs."
   ]
  },
  {
   "cell_type": "code",
   "execution_count": 9,
   "metadata": {},
   "outputs": [
    {
     "data": {
      "text/html": [
       "<div>\n",
       "<style>\n",
       "    .dataframe thead tr:only-child th {\n",
       "        text-align: right;\n",
       "    }\n",
       "\n",
       "    .dataframe thead th {\n",
       "        text-align: left;\n",
       "    }\n",
       "\n",
       "    .dataframe tbody tr th {\n",
       "        vertical-align: top;\n",
       "    }\n",
       "</style>\n",
       "<table border=\"1\" class=\"dataframe\">\n",
       "  <thead>\n",
       "    <tr style=\"text-align: right;\">\n",
       "      <th></th>\n",
       "      <th>level_0</th>\n",
       "      <th>level_1</th>\n",
       "      <th>value</th>\n",
       "    </tr>\n",
       "  </thead>\n",
       "  <tbody>\n",
       "    <tr>\n",
       "      <th>751</th>\n",
       "      <td>baths</td>\n",
       "      <td>beds</td>\n",
       "      <td>1</td>\n",
       "    </tr>\n",
       "    <tr>\n",
       "      <th>753</th>\n",
       "      <td>baths</td>\n",
       "      <td>size</td>\n",
       "      <td>1</td>\n",
       "    </tr>\n",
       "    <tr>\n",
       "      <th>779</th>\n",
       "      <td>beds</td>\n",
       "      <td>baths</td>\n",
       "      <td>1</td>\n",
       "    </tr>\n",
       "    <tr>\n",
       "      <th>837</th>\n",
       "      <td>size</td>\n",
       "      <td>baths</td>\n",
       "      <td>1</td>\n",
       "    </tr>\n",
       "  </tbody>\n",
       "</table>\n",
       "</div>"
      ],
      "text/plain": [
       "    level_0 level_1  value\n",
       "751   baths    beds      1\n",
       "753   baths    size      1\n",
       "779    beds   baths      1\n",
       "837    size   baths      1"
      ]
     },
     "execution_count": 9,
     "metadata": {},
     "output_type": "execute_result"
    }
   ],
   "source": [
    "# .corr() va directement nous donner la corrélation entre prédicteurs...\n",
    "df_corr = abs(df.corr())\n",
    "\n",
    "# ...mais nous ne nous intéressons qu'aux corrélations de plus de 75%\n",
    "for c in df_corr.columns:\n",
    "    df_corr[c] = df_corr.apply(lambda x: 1 if x[c] >= 0.75 else 0, axis=1)\n",
    "df_corr_2 = df_corr.unstack().reset_index(name='value')\n",
    "df_corr_2[(df_corr_2['value']==1) & (df_corr_2['level_0']!=df_corr_2['level_1'])]"
   ]
  },
  {
   "cell_type": "markdown",
   "metadata": {},
   "source": [
    "On remarque que le nombre de salles de bain est corrélé avec le nombre de chambres et la taille de l'appartement,\n",
    "on peut donc supprimer le prédicteur 'baths'\n"
   ]
  },
  {
   "cell_type": "code",
   "execution_count": 10,
   "metadata": {},
   "outputs": [
    {
     "data": {
      "text/plain": [
       "(20377, 28)"
      ]
     },
     "execution_count": 10,
     "metadata": {},
     "output_type": "execute_result"
    }
   ],
   "source": [
    "df = df.drop('baths', 1)\n",
    "df.shape"
   ]
  },
  {
   "cell_type": "code",
   "execution_count": 11,
   "metadata": {},
   "outputs": [
    {
     "data": {
      "text/html": [
       "<div>\n",
       "<style>\n",
       "    .dataframe thead tr:only-child th {\n",
       "        text-align: right;\n",
       "    }\n",
       "\n",
       "    .dataframe thead th {\n",
       "        text-align: left;\n",
       "    }\n",
       "\n",
       "    .dataframe tbody tr th {\n",
       "        vertical-align: top;\n",
       "    }\n",
       "</style>\n",
       "<table border=\"1\" class=\"dataframe\">\n",
       "  <thead>\n",
       "    <tr style=\"text-align: right;\">\n",
       "      <th></th>\n",
       "      <th>Alarm</th>\n",
       "      <th>Cable Ready</th>\n",
       "      <th>Ceiling Fans</th>\n",
       "      <th>Covered</th>\n",
       "      <th>Double Vanities</th>\n",
       "      <th>Fireplace</th>\n",
       "      <th>Framed Mirrors</th>\n",
       "      <th>Garage</th>\n",
       "      <th>Handrails</th>\n",
       "      <th>Heating</th>\n",
       "      <th>...</th>\n",
       "      <th>Surround Sound</th>\n",
       "      <th>Trash Compactor</th>\n",
       "      <th>Tub/Shower</th>\n",
       "      <th>Washer/Dryer</th>\n",
       "      <th>Washer/Dryer Hookup</th>\n",
       "      <th>Wheelchair Accessible (Rooms)</th>\n",
       "      <th>Wi-Fi</th>\n",
       "      <th>beds</th>\n",
       "      <th>rent</th>\n",
       "      <th>size</th>\n",
       "    </tr>\n",
       "    <tr>\n",
       "      <th>Air Conditioning</th>\n",
       "      <th></th>\n",
       "      <th></th>\n",
       "      <th></th>\n",
       "      <th></th>\n",
       "      <th></th>\n",
       "      <th></th>\n",
       "      <th></th>\n",
       "      <th></th>\n",
       "      <th></th>\n",
       "      <th></th>\n",
       "      <th></th>\n",
       "      <th></th>\n",
       "      <th></th>\n",
       "      <th></th>\n",
       "      <th></th>\n",
       "      <th></th>\n",
       "      <th></th>\n",
       "      <th></th>\n",
       "      <th></th>\n",
       "      <th></th>\n",
       "      <th></th>\n",
       "    </tr>\n",
       "  </thead>\n",
       "  <tbody>\n",
       "    <tr>\n",
       "      <th>1</th>\n",
       "      <td>0</td>\n",
       "      <td>1</td>\n",
       "      <td>0</td>\n",
       "      <td>0</td>\n",
       "      <td>0</td>\n",
       "      <td>0</td>\n",
       "      <td>0</td>\n",
       "      <td>1</td>\n",
       "      <td>1</td>\n",
       "      <td>1</td>\n",
       "      <td>...</td>\n",
       "      <td>0</td>\n",
       "      <td>0</td>\n",
       "      <td>1</td>\n",
       "      <td>0</td>\n",
       "      <td>0</td>\n",
       "      <td>1</td>\n",
       "      <td>1</td>\n",
       "      <td>2</td>\n",
       "      <td>4600.0</td>\n",
       "      <td>1150.0</td>\n",
       "    </tr>\n",
       "    <tr>\n",
       "      <th>1</th>\n",
       "      <td>0</td>\n",
       "      <td>1</td>\n",
       "      <td>0</td>\n",
       "      <td>0</td>\n",
       "      <td>0</td>\n",
       "      <td>0</td>\n",
       "      <td>0</td>\n",
       "      <td>1</td>\n",
       "      <td>1</td>\n",
       "      <td>1</td>\n",
       "      <td>...</td>\n",
       "      <td>0</td>\n",
       "      <td>0</td>\n",
       "      <td>1</td>\n",
       "      <td>0</td>\n",
       "      <td>0</td>\n",
       "      <td>1</td>\n",
       "      <td>1</td>\n",
       "      <td>2</td>\n",
       "      <td>6500.0</td>\n",
       "      <td>1150.0</td>\n",
       "    </tr>\n",
       "  </tbody>\n",
       "</table>\n",
       "<p>2 rows × 28 columns</p>\n",
       "</div>"
      ],
      "text/plain": [
       "                  Alarm  Cable Ready  Ceiling Fans  Covered  Double Vanities  \\\n",
       "Air Conditioning                                                               \n",
       "1                     0            1             0        0                0   \n",
       "1                     0            1             0        0                0   \n",
       "\n",
       "                  Fireplace  Framed Mirrors  Garage  Handrails  Heating  \\\n",
       "Air Conditioning                                                          \n",
       "1                         0               0       1          1        1   \n",
       "1                         0               0       1          1        1   \n",
       "\n",
       "                   ...    Surround Sound  Trash Compactor  Tub/Shower  \\\n",
       "Air Conditioning   ...                                                  \n",
       "1                  ...                 0                0           1   \n",
       "1                  ...                 0                0           1   \n",
       "\n",
       "                  Washer/Dryer  Washer/Dryer Hookup  \\\n",
       "Air Conditioning                                      \n",
       "1                            0                    0   \n",
       "1                            0                    0   \n",
       "\n",
       "                  Wheelchair Accessible (Rooms)  Wi-Fi  beds    rent    size  \n",
       "Air Conditioning                                                              \n",
       "1                                             1      1     2  4600.0  1150.0  \n",
       "1                                             1      1     2  6500.0  1150.0  \n",
       "\n",
       "[2 rows x 28 columns]"
      ]
     },
     "execution_count": 11,
     "metadata": {},
     "output_type": "execute_result"
    }
   ],
   "source": [
    "df.head(2)"
   ]
  },
  {
   "cell_type": "code",
   "execution_count": 12,
   "metadata": {},
   "outputs": [
    {
     "data": {
      "image/png": "[encoded data removed]",
      "text/plain": [
       "<matplotlib.figure.Figure at 0x1a090e8208>"
      ]
     },
     "metadata": {},
     "output_type": "display_data"
    }
   ],
   "source": [
    "plt.scatter(df['size'], df['rent'], s=1, color='orange')\n",
    "plt.plot([0,4000],[10000,10000], color='blue')\n",
    "plt.plot([1900, 1900],[0,40000],color='blue')\n",
    "plt.xlabel('Size')\n",
    "plt.ylabel('Rent')\n",
    "plt.title('Evolution of the rent depending on the size')\n",
    "plt.show()"
   ]
  },
  {
   "cell_type": "markdown",
   "metadata": {},
   "source": [
    "On peut donc supprimer les appartements dont le loyer ou la surface sont très importants."
   ]
  },
  {
   "cell_type": "code",
   "execution_count": 13,
   "metadata": {},
   "outputs": [
    {
     "data": {
      "text/plain": [
       "(20037, 28)"
      ]
     },
     "execution_count": 13,
     "metadata": {},
     "output_type": "execute_result"
    }
   ],
   "source": [
    "new_df = df[(df['size']<1900) & (df['rent']<10000)]\n",
    "new_df.shape"
   ]
  },
  {
   "cell_type": "markdown",
   "metadata": {},
   "source": [
    "## Splitting"
   ]
  },
  {
   "cell_type": "code",
   "execution_count": 14,
   "metadata": {
    "collapsed": true
   },
   "outputs": [],
   "source": [
    "# On mélange d'abord\n",
    "new_df = new_df.sample(frac=1)"
   ]
  },
  {
   "cell_type": "code",
   "execution_count": 15,
   "metadata": {},
   "outputs": [
    {
     "name": "stderr",
     "output_type": "stream",
     "text": [
      "/Users/soleneduchamp/anaconda3/lib/python3.6/site-packages/sklearn/model_selection/_split.py:2026: FutureWarning: From version 0.21, test_size will always complement train_size unless both are specified.\n",
      "  FutureWarning)\n"
     ]
    }
   ],
   "source": [
    "Y = new_df['rent']\n",
    "X = new_df.drop('rent', 1)\n",
    "X_train, X_test, Y_train, Y_test = train_test_split(X, Y, train_size = 0.70, random_state = 42)"
   ]
  },
  {
   "cell_type": "markdown",
   "metadata": {},
   "source": [
    "## Gradient boosting"
   ]
  },
  {
   "cell_type": "code",
   "execution_count": 16,
   "metadata": {},
   "outputs": [
    {
     "name": "stdout",
     "output_type": "stream",
     "text": [
      "Avec une profondeur maximale de 2, on obtient un score de 0.28536051383845074\n",
      "Avec une profondeur maximale de 4, on obtient un score de 0.3912764149606532\n",
      "Avec une profondeur maximale de 6, on obtient un score de 0.5434478417678175\n",
      "Avec une profondeur maximale de 8, on obtient un score de 0.6833514896901752\n",
      "Avec une profondeur maximale de 10, on obtient un score de 0.7793430897506252\n",
      "Avec une profondeur maximale de 12, on obtient un score de 0.8340174119488843\n",
      "Avec une profondeur maximale de 14, on obtient un score de 0.8490225395944755\n",
      "Avec une profondeur maximale de 16, on obtient un score de 0.848608637555192\n",
      "Avec une profondeur maximale de 18, on obtient un score de 0.8396269195059881\n",
      "Avec une profondeur maximale de 20, on obtient un score de 0.8336252012578829\n",
      "Avec une profondeur maximale de 40, on obtient un score de 0.8296811384458825\n"
     ]
    },
    {
     "data": {
      "image/png": "[encoded data removed]",
      "text/plain": [
       "<matplotlib.figure.Figure at 0x1a09512748>"
      ]
     },
     "metadata": {},
     "output_type": "display_data"
    }
   ],
   "source": [
    "scores = []\n",
    "max_depth = [2,4,6,8,10,12,14,16,18,20,40]\n",
    "for depth in max_depth:\n",
    "    gb = GradientBoostingRegressor(loss='ls' , learning_rate=0.03, n_estimators=100, max_depth=depth)\n",
    "    kscores = cross_val_score(gb, X_train, Y_train, cv=5)\n",
    "    scores.append(kscores.mean())\n",
    "    print ('Avec une profondeur maximale de {0}, on obtient un score de {1}'.format(depth,kscores.mean()))\n",
    "plt.plot(max_depth, scores, 'o-')\n",
    "plt.xlabel('Max depth')\n",
    "plt.ylabel('Score')\n",
    "plt.title('Evolution of the score in terms of max depth')\n",
    "plt.show()"
   ]
  },
  {
   "cell_type": "markdown",
   "metadata": {},
   "source": [
    "On choisit donc une profondeur maximale de 14.\n"
   ]
  },
  {
   "cell_type": "code",
   "execution_count": 17,
   "metadata": {},
   "outputs": [
    {
     "name": "stdout",
     "output_type": "stream",
     "text": [
      "Avec un learning rate de 0.03, on obtient un score de 0.8297045670016789\n",
      "Avec un learning rate de 0.06, on obtient un score de 0.8246834704696809\n",
      "Avec un learning rate de 0.09, on obtient un score de 0.8228958150562757\n",
      "Avec un learning rate de 0.12, on obtient un score de 0.8251492279740067\n",
      "Avec un learning rate de 0.15, on obtient un score de 0.8243632037207099\n",
      "Avec un learning rate de 0.18, on obtient un score de 0.823672852105908\n"
     ]
    },
    {
     "data": {
      "image/png": "[encoded data removed]",
      "text/plain": [
       "<matplotlib.figure.Figure at 0x102468160>"
      ]
     },
     "metadata": {},
     "output_type": "display_data"
    }
   ],
   "source": [
    "scores = []\n",
    "l_rates = [0.03, 0.06, 0.09, 0.12, 0.15, 0.18]\n",
    "for l_r in l_rates:\n",
    "    gb = GradientBoostingRegressor(loss='ls' , learning_rate=l_r, n_estimators=100, max_depth=14)\n",
    "    kscores = cross_val_score(gb, X_train, Y_train, cv=5)\n",
    "    scores.append(kscores.mean())\n",
    "    print ('Avec un learning rate de {0}, on obtient un score de {1}'.format(l_r, kscores.mean()))\n",
    "plt.plot(l_rates, scores, 'o-')\n",
    "plt.xlabel('Learning rate')\n",
    "plt.ylabel('Score')\n",
    "plt.title('Evolution of the score depending on the learning_rate')\n",
    "plt.show()"
   ]
  },
  {
   "cell_type": "markdown",
   "metadata": {},
   "source": [
    "On constate qu'un faible learning rate a de meilleurs performances, c'est cohérent, puisqu'un faible learning rate apprend plus lentement mais apprend mieux."
   ]
  },
  {
   "cell_type": "code",
   "execution_count": 18,
   "metadata": {},
   "outputs": [
    {
     "name": "stdout",
     "output_type": "stream",
     "text": [
      "Avec 50 estimateurs, on obtient un score de 0.8633319800114195\n",
      "Avec 100 estimateurs, on obtient un score de 0.8625900807769142\n",
      "Avec 150 estimateurs, on obtient un score de 0.8641837005418953\n",
      "Avec 200 estimateurs, on obtient un score de 0.8642618069814627\n",
      "Avec 300 estimateurs, on obtient un score de 0.862825629770683\n",
      "Avec 400 estimateurs, on obtient un score de 0.8633251689321305\n"
     ]
    },
    {
     "data": {
      "image/png": "[encoded data removed]",
      "text/plain": [
       "<matplotlib.figure.Figure at 0x10245b358>"
      ]
     },
     "metadata": {},
     "output_type": "display_data"
    }
   ],
   "source": [
    "scores = []\n",
    "estimators = [50,100,150,200,300,400]\n",
    "for k in estimators:\n",
    "    gb = GradientBoostingRegressor(loss='ls' , learning_rate=0.18, n_estimators=k, max_depth=14)\n",
    "    kscores = cross_val_score(gb, X_train, Y_train, cv=5)\n",
    "    scores.append(kscores.mean())\n",
    "    print ('Avec {0} estimateurs, on obtient un score de {1}'.format(k,kscores.mean()))\n",
    "plt.plot([50,100,150,200,300,400], scores, 'o-')\n",
    "plt.xlabel('# of estimators')\n",
    "plt.ylabel('Score')\n",
    "plt.title('Evolution of the score in terms of # of estimators')\n",
    "plt.show()"
   ]
  },
  {
   "cell_type": "markdown",
   "metadata": {},
   "source": [
    "On prendra donc 200 estimateurs."
   ]
  },
  {
   "cell_type": "code",
   "execution_count": 19,
   "metadata": {},
   "outputs": [
    {
     "data": {
      "text/plain": [
       "GradientBoostingRegressor(alpha=0.9, criterion='friedman_mse', init=None,\n",
       "             learning_rate=0.03, loss='ls', max_depth=14,\n",
       "             max_features=None, max_leaf_nodes=None,\n",
       "             min_impurity_decrease=0.0, min_impurity_split=None,\n",
       "             min_samples_leaf=1, min_samples_split=2,\n",
       "             min_weight_fraction_leaf=0.0, n_estimators=200,\n",
       "             presort='auto', random_state=None, subsample=1.0, verbose=0,\n",
       "             warm_start=False)"
      ]
     },
     "execution_count": 19,
     "metadata": {},
     "output_type": "execute_result"
    }
   ],
   "source": [
    "gb = GradientBoostingRegressor(loss='ls' , learning_rate=0.03, n_estimators=200, max_depth=14)\n",
    "gb.fit(X_train,Y_train)"
   ]
  },
  {
   "cell_type": "markdown",
   "metadata": {},
   "source": [
    "On peut donc en profiter pour supprimer les features qui ont peu d'importance"
   ]
  },
  {
   "cell_type": "code",
   "execution_count": 21,
   "metadata": {},
   "outputs": [
    {
     "data": {
      "image/png": "[encoded data removed]",
      "text/plain": [
       "<matplotlib.figure.Figure at 0x102430dd8>"
      ]
     },
     "metadata": {},
     "output_type": "display_data"
    }
   ],
   "source": [
    "feature_importance = pd.DataFrame({'importance':gb.feature_importances_,'features': X_train.columns.values})\n",
    "plt.figure(figsize=(14,8))\n",
    "plt.plot(feature_importance['features'], feature_importance['importance'])\n",
    "plt.title('Feature importance')\n",
    "plt.show()"
   ]
  },
  {
   "cell_type": "markdown",
   "metadata": {},
   "source": [
    "Sans surprise on constate que la surface de l'appartement a une grande importance, et on peut donc en profiter pour supprimer les features insignifiantes."
   ]
  },
  {
   "cell_type": "code",
   "execution_count": 23,
   "metadata": {},
   "outputs": [
    {
     "data": {
      "text/plain": [
       "((27, 2), (15, 2))"
      ]
     },
     "execution_count": 23,
     "metadata": {},
     "output_type": "execute_result"
    }
   ],
   "source": [
    "new_features = feature_importance[feature_importance['importance']>=0.01]\n",
    "feature_importance.shape, new_features.shape"
   ]
  },
  {
   "cell_type": "markdown",
   "metadata": {},
   "source": [
    "On réduit ainsi le nombre de prédicteurs ce qui nous permettra d'aller plus vite avec nos autres algorithmes"
   ]
  },
  {
   "cell_type": "code",
   "execution_count": 24,
   "metadata": {},
   "outputs": [
    {
     "data": {
      "text/plain": [
       "features      Cable ReadyCeiling FansCoveredFireplaceGarageH...\n",
       "importance                                             0.930111\n",
       "dtype: object"
      ]
     },
     "execution_count": 24,
     "metadata": {},
     "output_type": "execute_result"
    }
   ],
   "source": [
    "#Ces prédicteurs expliquent majoritairement les résultats, à 93%\n",
    "new_features.sum(axis=0)"
   ]
  },
  {
   "cell_type": "markdown",
   "metadata": {
    "collapsed": true
   },
   "source": [
    "Pour être équitable avec les prochaines prédictions, on fit le modèle de nouveau."
   ]
  },
  {
   "cell_type": "code",
   "execution_count": 28,
   "metadata": {},
   "outputs": [
    {
     "data": {
      "text/plain": [
       "array(['Cable Ready', 'Ceiling Fans', 'Covered', 'Fireplace', 'Garage',\n",
       "       'Heating', 'High Speed Internet Access', 'Smoke Free',\n",
       "       'Storage Units', 'Surface Lot', 'Tub/Shower', 'Washer/Dryer',\n",
       "       'Wheelchair Accessible (Rooms)', 'beds', 'size'], dtype=object)"
      ]
     },
     "execution_count": 28,
     "metadata": {},
     "output_type": "execute_result"
    }
   ],
   "source": [
    "new_features['features'].values"
   ]
  },
  {
   "cell_type": "code",
   "execution_count": 30,
   "metadata": {},
   "outputs": [],
   "source": [
    "X_train_r = X_train[['Cable Ready', 'Ceiling Fans', 'Covered', 'Fireplace', 'Garage',\n",
    "       'Heating', 'High Speed Internet Access', 'Smoke Free',\n",
    "       'Storage Units', 'Surface Lot', 'Tub/Shower', 'Washer/Dryer',\n",
    "       'Wheelchair Accessible (Rooms)', 'beds', 'size']]\n",
    "X_test_r = X_test[['Cable Ready', 'Ceiling Fans', 'Covered', 'Fireplace', 'Garage',\n",
    "       'Heating', 'High Speed Internet Access', 'Smoke Free',\n",
    "       'Storage Units', 'Surface Lot', 'Tub/Shower', 'Washer/Dryer',\n",
    "       'Wheelchair Accessible (Rooms)', 'beds', 'size']]"
   ]
  },
  {
   "cell_type": "code",
   "execution_count": 32,
   "metadata": {},
   "outputs": [
    {
     "data": {
      "text/plain": [
       "GradientBoostingRegressor(alpha=0.9, criterion='friedman_mse', init=None,\n",
       "             learning_rate=0.03, loss='ls', max_depth=14,\n",
       "             max_features=None, max_leaf_nodes=None,\n",
       "             min_impurity_decrease=0.0, min_impurity_split=None,\n",
       "             min_samples_leaf=1, min_samples_split=2,\n",
       "             min_weight_fraction_leaf=0.0, n_estimators=200,\n",
       "             presort='auto', random_state=None, subsample=1.0, verbose=0,\n",
       "             warm_start=False)"
      ]
     },
     "execution_count": 32,
     "metadata": {},
     "output_type": "execute_result"
    }
   ],
   "source": [
    "gb2 = GradientBoostingRegressor(loss='ls' , learning_rate=0.03, n_estimators=200, max_depth=14)\n",
    "gb2.fit(X_train_r,Y_train)"
   ]
  },
  {
   "cell_type": "code",
   "execution_count": 33,
   "metadata": {},
   "outputs": [
    {
     "data": {
      "text/plain": [
       "0.89066426518350528"
      ]
     },
     "execution_count": 33,
     "metadata": {},
     "output_type": "execute_result"
    }
   ],
   "source": [
    "gb2.score(X_test_r, Y_test)"
   ]
  },
  {
   "cell_type": "markdown",
   "metadata": {},
   "source": [
    "## Random Forest"
   ]
  },
  {
   "cell_type": "code",
   "execution_count": 36,
   "metadata": {},
   "outputs": [
    {
     "name": "stdout",
     "output_type": "stream",
     "text": [
      "Avec une profondeur maximale de 2, on obtient un score de 0.21535244636410025\n",
      "Avec une profondeur maximale de 4, on obtient un score de 0.3045434925984173\n",
      "Avec une profondeur maximale de 6, on obtient un score de 0.39978723773227065\n",
      "Avec une profondeur maximale de 8, on obtient un score de 0.5407840146859756\n",
      "Avec une profondeur maximale de 10, on obtient un score de 0.6778492281532327\n",
      "Avec une profondeur maximale de 12, on obtient un score de 0.7704758234404416\n",
      "Avec une profondeur maximale de 14, on obtient un score de 0.821251802649695\n",
      "Avec une profondeur maximale de 16, on obtient un score de 0.8425233679764842\n",
      "Avec une profondeur maximale de 18, on obtient un score de 0.8494892716020768\n",
      "Avec une profondeur maximale de 20, on obtient un score de 0.8507841876724196\n",
      "Avec une profondeur maximale de 40, on obtient un score de 0.8519120234288806\n"
     ]
    },
    {
     "data": {
      "image/png": "[encoded data removed]",
      "text/plain": [
       "<matplotlib.figure.Figure at 0x1a17870828>"
      ]
     },
     "metadata": {},
     "output_type": "display_data"
    }
   ],
   "source": [
    "scores = []\n",
    "max_depth = [2,4,6,8,10,12,14,16,18,20,40]\n",
    "for depth in max_depth:\n",
    "    rf = RandomForestRegressor(n_estimators = 75, max_depth = depth)\n",
    "    kscores = cross_val_score(rf, X_train_r, Y_train, cv=5)\n",
    "    scores.append(kscores.mean())\n",
    "    print ('Avec une profondeur maximale de {0}, on obtient un score de {1}'.format(depth,kscores.mean()))\n",
    "plt.plot(max_depth, scores, 'o-')\n",
    "plt.xlabel('Max depth')\n",
    "plt.ylabel('Score')\n",
    "plt.title('Evolution of the score in terms of max depth')\n",
    "plt.show()"
   ]
  },
  {
   "cell_type": "markdown",
   "metadata": {},
   "source": [
    "On prendra donc une profondeur maximale de 16\n",
    "\n",
    "Regardons maintenant l'influence du nombre d'arbres"
   ]
  },
  {
   "cell_type": "code",
   "execution_count": 37,
   "metadata": {},
   "outputs": [
    {
     "name": "stdout",
     "output_type": "stream",
     "text": [
      "Avec 50 estimateurs, on obtient un score de 0.849130805902346\n",
      "Avec 100 estimateurs, on obtient un score de 0.8501355114832565\n",
      "Avec 150 estimateurs, on obtient un score de 0.8506625803584396\n",
      "Avec 200 estimateurs, on obtient un score de 0.8524079824994031\n",
      "Avec 300 estimateurs, on obtient un score de 0.8526404893787788\n",
      "Avec 400 estimateurs, on obtient un score de 0.851924501221766\n"
     ]
    },
    {
     "data": {
      "image/png": "[encoded data removed]",
      "text/plain": [
       "<matplotlib.figure.Figure at 0x1a178a3c18>"
      ]
     },
     "metadata": {},
     "output_type": "display_data"
    }
   ],
   "source": [
    "scores = []\n",
    "estimators = [50,100,150,200,300,400]\n",
    "for k in estimators:\n",
    "    rf = RandomForestRegressor(n_estimators=k, max_depth=16)\n",
    "    kscores = cross_val_score(rf, X_train, Y_train, cv=5)\n",
    "    scores.append(kscores.mean())\n",
    "    print ('Avec {0} estimateurs, on obtient un score de {1}'.format(k,kscores.mean()))\n",
    "plt.plot([50,100,150,200,300,400], scores, 'o-')\n",
    "plt.xlabel('# of estimators')\n",
    "plt.ylabel('Score')\n",
    "plt.title('Evolution of the score in terms of # of estimators')\n",
    "plt.show()"
   ]
  },
  {
   "cell_type": "markdown",
   "metadata": {},
   "source": [
    "On prendra donc les hyper-paramètres:\n",
    "    - 300 arbres\n",
    "    - profondeur maximale de 16"
   ]
  },
  {
   "cell_type": "code",
   "execution_count": 38,
   "metadata": {},
   "outputs": [
    {
     "data": {
      "text/plain": [
       "RandomForestRegressor(bootstrap=True, criterion='mse', max_depth=16,\n",
       "           max_features='auto', max_leaf_nodes=None,\n",
       "           min_impurity_decrease=0.0, min_impurity_split=None,\n",
       "           min_samples_leaf=1, min_samples_split=2,\n",
       "           min_weight_fraction_leaf=0.0, n_estimators=300, n_jobs=1,\n",
       "           oob_score=False, random_state=None, verbose=0, warm_start=False)"
      ]
     },
     "execution_count": 38,
     "metadata": {},
     "output_type": "execute_result"
    }
   ],
   "source": [
    "rf2 = RandomForestRegressor(n_estimators=300, max_depth=16)\n",
    "rf2.fit(X_train_r,Y_train)"
   ]
  },
  {
   "cell_type": "code",
   "execution_count": 39,
   "metadata": {},
   "outputs": [
    {
     "data": {
      "text/plain": [
       "0.87265363569566612"
      ]
     },
     "execution_count": 39,
     "metadata": {},
     "output_type": "execute_result"
    }
   ],
   "source": [
    "rf2.score(X_test_r, Y_test)"
   ]
  },
  {
   "cell_type": "markdown",
   "metadata": {},
   "source": [
    "## Régression polynomiale"
   ]
  },
  {
   "cell_type": "code",
   "execution_count": 42,
   "metadata": {},
   "outputs": [
    {
     "data": {
      "text/plain": [
       "(14025, 15)"
      ]
     },
     "execution_count": 42,
     "metadata": {},
     "output_type": "execute_result"
    }
   ],
   "source": [
    "X_train_r.shape"
   ]
  },
  {
   "cell_type": "markdown",
   "metadata": {},
   "source": [
    "Testons d'abord une régression linéaire simple"
   ]
  },
  {
   "cell_type": "code",
   "execution_count": 46,
   "metadata": {},
   "outputs": [
    {
     "data": {
      "text/plain": [
       "0.28934983237498468"
      ]
     },
     "execution_count": 46,
     "metadata": {},
     "output_type": "execute_result"
    }
   ],
   "source": [
    "clf = linear_model.LinearRegression()\n",
    "cross_val_score(clf, X_train_r, Y_train, cv=5).mean()"
   ]
  },
  {
   "cell_type": "markdown",
   "metadata": {},
   "source": [
    "Régression polynomiale d'ordre 2"
   ]
  },
  {
   "cell_type": "code",
   "execution_count": 47,
   "metadata": {},
   "outputs": [
    {
     "data": {
      "text/plain": [
       "0.44362582913155818"
      ]
     },
     "execution_count": 47,
     "metadata": {},
     "output_type": "execute_result"
    }
   ],
   "source": [
    "poly = PolynomialFeatures(degree=2)\n",
    "X_train2 = poly.fit_transform(X_train_r)\n",
    "\n",
    "clf2 = linear_model.LinearRegression()\n",
    "cross_val_score(clf2, X_train2, Y_train, cv=5).mean()"
   ]
  },
  {
   "cell_type": "code",
   "execution_count": 49,
   "metadata": {},
   "outputs": [
    {
     "data": {
      "text/plain": [
       "0.70856212261116802"
      ]
     },
     "execution_count": 49,
     "metadata": {},
     "output_type": "execute_result"
    }
   ],
   "source": [
    "poly = PolynomialFeatures(degree=3)\n",
    "X_train3 = poly.fit_transform(X_train_r)\n",
    "\n",
    "clf3 = linear_model.LinearRegression()\n",
    "cross_val_score(clf3, X_train3, Y_train, cv=5).mean()"
   ]
  },
  {
   "cell_type": "code",
   "execution_count": 50,
   "metadata": {},
   "outputs": [
    {
     "data": {
      "text/plain": [
       "0.58659294400386464"
      ]
     },
     "execution_count": 50,
     "metadata": {},
     "output_type": "execute_result"
    }
   ],
   "source": [
    "poly = PolynomialFeatures(degree=4)\n",
    "X_train4 = poly.fit_transform(X_train_r)\n",
    "\n",
    "clf4 = linear_model.LinearRegression()\n",
    "cross_val_score(clf4, X_train4, Y_train, cv=5).mean()"
   ]
  },
  {
   "cell_type": "markdown",
   "metadata": {},
   "source": [
    "On choisit ainsi la régression polynomiale de degré 3."
   ]
  },
  {
   "cell_type": "code",
   "execution_count": 52,
   "metadata": {},
   "outputs": [
    {
     "data": {
      "text/plain": [
       "LinearRegression(copy_X=True, fit_intercept=True, n_jobs=1, normalize=False)"
      ]
     },
     "execution_count": 52,
     "metadata": {},
     "output_type": "execute_result"
    }
   ],
   "source": [
    "poly = PolynomialFeatures(degree=3)\n",
    "X_train3 = poly.fit_transform(X_train_r)\n",
    "\n",
    "clf3 = linear_model.LinearRegression()\n",
    "clf3.fit(X_train_r,Y_train)"
   ]
  },
  {
   "cell_type": "code",
   "execution_count": 53,
   "metadata": {},
   "outputs": [
    {
     "data": {
      "text/plain": [
       "0.30808295341863556"
      ]
     },
     "execution_count": 53,
     "metadata": {},
     "output_type": "execute_result"
    }
   ],
   "source": [
    "clf3.score(X_test_r, Y_test)"
   ]
  },
  {
   "cell_type": "markdown",
   "metadata": {},
   "source": [
    "On constate une grande erreur de généralisation sur ce modèle."
   ]
  },
  {
   "cell_type": "markdown",
   "metadata": {
    "collapsed": true
   },
   "source": [
    "## Synthèse des résultats"
   ]
  },
  {
   "cell_type": "code",
   "execution_count": 79,
   "metadata": {},
   "outputs": [],
   "source": [
    "scores = [gb2.score(X_test_r, Y_test), rf2.score(X_test_r, Y_test), clf3.score(X_test_r, Y_test)]\n",
    "beautiful_scores = pd.DataFrame([[f\"{round(x,2)*100} %\" for x in scores]])\n",
    "beautiful_scores.columns = ['Gradient Boosting', 'Random Forest', 'Régression Polynomiale']"
   ]
  },
  {
   "cell_type": "code",
   "execution_count": 80,
   "metadata": {},
   "outputs": [
    {
     "data": {
      "text/html": [
       "<div>\n",
       "<style>\n",
       "    .dataframe thead tr:only-child th {\n",
       "        text-align: right;\n",
       "    }\n",
       "\n",
       "    .dataframe thead th {\n",
       "        text-align: left;\n",
       "    }\n",
       "\n",
       "    .dataframe tbody tr th {\n",
       "        vertical-align: top;\n",
       "    }\n",
       "</style>\n",
       "<table border=\"1\" class=\"dataframe\">\n",
       "  <thead>\n",
       "    <tr style=\"text-align: right;\">\n",
       "      <th></th>\n",
       "      <th>Gradient Boosting</th>\n",
       "      <th>Random Forest</th>\n",
       "      <th>Régression Polynomiale</th>\n",
       "    </tr>\n",
       "  </thead>\n",
       "  <tbody>\n",
       "    <tr>\n",
       "      <th>0</th>\n",
       "      <td>89.0 %</td>\n",
       "      <td>87.0 %</td>\n",
       "      <td>31.0 %</td>\n",
       "    </tr>\n",
       "  </tbody>\n",
       "</table>\n",
       "</div>"
      ],
      "text/plain": [
       "  Gradient Boosting Random Forest Régression Polynomiale\n",
       "0            89.0 %        87.0 %                 31.0 %"
      ]
     },
     "execution_count": 80,
     "metadata": {},
     "output_type": "execute_result"
    }
   ],
   "source": [
    "beautiful_scores"
   ]
  },
  {
   "cell_type": "markdown",
   "metadata": {},
   "source": [
    "> On constate que le Gradient Boosting a les meilleurs performances !!"
   ]
  }
 ],
 "metadata": {
  "kernelspec": {
   "display_name": "Python 3",
   "language": "python",
   "name": "python3"
  },
  "language_info": {
   "codemirror_mode": {
    "name": "ipython",
    "version": 3
   },
   "file_extension": ".py",
   "mimetype": "text/x-python",
   "name": "python",
   "nbconvert_exporter": "python",
   "pygments_lexer": "ipython3",
   "version": "3.6.3"
  }
 },
 "nbformat": 4,
 "nbformat_minor": 2
}
